{
 "cells": [
  {
   "cell_type": "code",
   "execution_count": null,
   "id": "34a4b947",
   "metadata": {},
   "outputs": [],
   "source": [
    "from ollama import chat, ChatResponse, Client"
   ]
  },
  {
   "cell_type": "code",
   "execution_count": null,
   "id": "fbd368d2",
   "metadata": {},
   "outputs": [],
   "source": [
    "response = chat(model='llama4:latest', messages=[\n",
    "  {\n",
    "    'role': 'user',\n",
    "    'content': \"Qu'est-ce qu'un hackathon ?\"\n",
    "  },\n",
    "])\n",
    "print(response['message']['content'])"
   ]
  }
 ],
 "metadata": {
  "language_info": {
   "name": "python"
  }
 },
 "nbformat": 4,
 "nbformat_minor": 5
}

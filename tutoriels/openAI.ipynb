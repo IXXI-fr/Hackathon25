{
 "cells": [
  {
   "cell_type": "code",
   "execution_count": 5,
   "id": "5f14e34b",
   "metadata": {},
   "outputs": [],
   "source": [
    "from openai import OpenAI"
   ]
  },
  {
   "cell_type": "code",
   "execution_count": null,
   "id": "e84ef1d4",
   "metadata": {},
   "outputs": [],
   "source": [
    "api_key = \"\"\n",
    "model=\"gpt-4.1-nano-2025-04-14\" "
   ]
  },
  {
   "cell_type": "code",
   "execution_count": null,
   "id": "3136f869",
   "metadata": {},
   "outputs": [],
   "source": [
    "client = OpenAI(api_key=api_key)"
   ]
  },
  {
   "cell_type": "code",
   "execution_count": 15,
   "id": "5d806f19",
   "metadata": {},
   "outputs": [],
   "source": [
    "with open(\"../données/LaCurée/La curée_chap1.txt\") as f:\n",
    "  text = f.read()\n"
   ]
  },
  {
   "cell_type": "code",
   "execution_count": null,
   "id": "e6adbd1e",
   "metadata": {},
   "outputs": [],
   "source": [
    "\n",
    "response = client.chat.completions.create(\n",
    "    model=model,\n",
    "    messages=[\n",
    "{            \"role\": \"system\",\n",
    "            \"content\": \"Tu es assistant spécialiste de botanique.\"\n",
    "        },\n",
    "        {\n",
    "            \"role\": \"user\",\n",
    "            \"content\": [\n",
    "                {\n",
    "                    \"type\": \"text\",\n",
    "                    \"text\": f\"Quels sont les termes savants de botanique dans ce texte ?\\n\\n{text}\",\n",
    "                },\n",
    "            ]\n",
    "        }\n",
    "    ]\n",
    ")"
   ]
  },
  {
   "cell_type": "code",
   "execution_count": null,
   "id": "8bc21435",
   "metadata": {},
   "outputs": [
    {
     "name": "stdout",
     "output_type": "stream",
     "text": [
      "Voici les termes savants de botanique présents dans ce texte :\n",
      "\n",
      "1. **Serre** — Structure vitrée pour la culture de plantes sensibles aux variations climatiques.\n",
      "\n",
      "2. **Lianes** — Végétaux grimpants ou rampants, souvent avec des tiges souples qui s'enroulent autour d’un support.\n",
      "\n",
      "3. **Nymphéa** — Plante aquatique flottante ou émergente, connue aussi sous le nom de lotus.\n",
      "\n",
      "4. **Tornélia** — Genre de plantes aquatiques, notamment des espèces de plantes à fleurs aquatiques.\n",
      "\n",
      "5. **Palmiers** — Arbres appartenant à l'ordre des Monocotylédones, avec une tige souvent unique et des feuilles en forme de palmes.\n",
      "\n",
      "6. **Bambous** — Graminées à tiges creuses, appartenant à la famille des Poacées, communes dans la flore asiatique.\n",
      "\n",
      "7. **Fougères** — Plantes vasculaires sans fleurs, appartenant à l’ordre des Filicales, avec un rhizome généralement horizontal.\n",
      "\n",
      "8. **Ptérides** — Une sous-classe de fougères, aussi appelées fougères véritables.\n",
      "\n",
      "9. **Alsophila** — Genre de fougères arborescentes.\n",
      "\n",
      "10. **Bégonia** — Plante herbacée ou arbustive, souvent cultivée pour ses feuilles ou ses fleurs, appartenant à la famille des Begoniaceae.\n",
      "\n",
      "11. **Caladium** — Genre de plantes tropicales, cultivées pour leurs feuilles colorées, appartenant à la famille des Araceae.\n",
      "\n",
      "12. **Bananiers** — Plantes herbacées tropicales, appartenant à la famille des Musacées, produisant des grappes de fruits.\n",
      "\n",
      "13. **Euphorbes** (Euphorbia) — Genre de plantes à latex, souvent épineuses, appartenant à la famille des Euphorbiacées.\n",
      "\n",
      "14. **Maranta** — Genre de plantes à feuilles décoratives, appartenant à la famille des Marantaceae.\n",
      "\n",
      "15. **Gloxinia** — Genre de plantes à fleurs vivaces, souvent cultivées comme plantes d’intérieur, famille des Gesneriaceae.\n",
      "\n",
      "16. **Dracena** — Genre de plantes herbacées ou ligneuses, souvent ornementales, famille des Asparagacées.\n",
      "\n",
      "17. **Vanille** — Orchideé (famille des Orchidaceae), connue pour ses longues épées de fleurs et ses gousses aromatiques.\n",
      "\n",
      "18. **Quisqualus** — Genre de plantes grimpantes, famille des Combretaceae.\n",
      "\n",
      "19. **Bauhinia** — Genre d’arbres ou arbustes, familles des Caesalpiniaceae, souvent avec des fleurs en forme d’étoile.\n",
      "\n",
      "20. **Orchidées** (Orchidaceae) — Grande famille de plantes à fleurs très diversifiée, caractérisées par la structure complexe de leur fleur.\n",
      "\n",
      "21. **Tanghin de Madagascar** (Abreva tanghina) — Arbre toxique, famille des Apocynacées.\n",
      "\n",
      "Ce vocabulaire renferme principalement des noms de plantes, de structures végétales ou de familles botaniques, témoignant de la richesse de la biodiversité végétale évoquée dans le texte.\n"
     ]
    }
   ],
   "source": [
    "print(response.choices[0].message.content)"
   ]
  },
  {
   "cell_type": "code",
   "execution_count": null,
   "id": "dda2e866",
   "metadata": {},
   "outputs": [],
   "source": []
  }
 ],
 "metadata": {
  "kernelspec": {
   "display_name": "openai",
   "language": "python",
   "name": "python3"
  },
  "language_info": {
   "codemirror_mode": {
    "name": "ipython",
    "version": 3
   },
   "file_extension": ".py",
   "mimetype": "text/x-python",
   "name": "python",
   "nbconvert_exporter": "python",
   "pygments_lexer": "ipython3",
   "version": "3.12.1"
  }
 },
 "nbformat": 4,
 "nbformat_minor": 5
}
